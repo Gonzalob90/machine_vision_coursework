{
 "cells": [
  {
   "cell_type": "markdown",
   "metadata": {
    "deletable": true,
    "editable": true
   },
   "source": [
    "# Practical 7 - Part 2A\n",
    "This project explores the geometry of a single camera. The aim is to take several points on\n",
    "a plane, and predict where they will appear in the camera image. Based on these observed\n",
    "points, we will then try to re-estimate the Euclidean transformation relating the plane and\n",
    "the camera. In practical 2B we will use this code to draw a wireframe cube\n",
    "on an augmented reality marker.   You should use this\n",
    "template for your code and fill in the missing sections marked \"TO DO\""
   ]
  },
  {
   "cell_type": "markdown",
   "metadata": {
    "deletable": true,
    "editable": true
   },
   "source": [
    "# Import libraries "
   ]
  },
  {
   "cell_type": "code",
   "execution_count": 148,
   "metadata": {
    "collapsed": true,
    "deletable": true,
    "editable": true
   },
   "outputs": [],
   "source": [
    "%matplotlib inline\n",
    "import os \n",
    "import numpy as np\n",
    "import matplotlib.pyplot as plt\n",
    "import scipy.io as sio\n",
    "from numpy.linalg import inv\n",
    "from numpy.linalg import det"
   ]
  },
  {
   "cell_type": "markdown",
   "metadata": {
    "deletable": true,
    "editable": true
   },
   "source": [
    "# TO DO - fill in projectiveCamera and estimatePlanePose functions  (you will have to utilise your solutions for solveAXEqualsZero and calcBestHomography from Part 1)"
   ]
  },
  {
   "cell_type": "code",
   "execution_count": 167,
   "metadata": {
    "collapsed": true
   },
   "outputs": [],
   "source": [
    "def solveAXEqualsZero(A):\n",
    "    # TO DO: Write this routine - it should solve Ah = 0   \n",
    "    u,s,v = np.linalg.svd(A)\n",
    "    v_last = v[-1,:]\n",
    "    return v_last"
   ]
  },
  {
   "cell_type": "code",
   "execution_count": 168,
   "metadata": {
    "collapsed": true
   },
   "outputs": [],
   "source": [
    "def solve_rotation(A):\n",
    "    # TO DO: Write this routine - it should solve Ah = 0   \n",
    "    u,s,v = np.linalg.svd(A)\n",
    "    matrix = np.array([[1,0],[0,1],[0,0]])\n",
    "    result = np.matmul(np.matmul(u,matrix),v)\n",
    "    return result"
   ]
  },
  {
   "cell_type": "code",
   "execution_count": 169,
   "metadata": {
    "collapsed": true
   },
   "outputs": [],
   "source": [
    "# This function should apply the direct linear transform (DLT) algorithm to calculate the best \n",
    "# homography that maps the points in pts1Cart to their corresonding matching in pts2Cart\n",
    "def calcBestHomography(XCart, XCamCart):    \n",
    "\n",
    "\n",
    "    # TO DO: \n",
    "    # First convert points into homogeneous representation\n",
    "    XHom = np.concatenate((XCart, np.ones((1,XCart.shape[1]))), axis=0)\n",
    "    XCamHom = np.concatenate((XCamCart, np.ones((1,XCamCart.shape[1]))), axis=0)\n",
    "    \n",
    "    # Then construct the matrix A, size (n_points,9)\n",
    "    num_examples = 10\n",
    "    A = np.zeros((num_examples,9))\n",
    "    \n",
    "    #Populate the matrix\n",
    "    for i in range(5):\n",
    "        uv = XHom[:, i]\n",
    "        xy = XCamHom[:, i]\n",
    "        A[2 * i,     :] = np.hstack([[0, 0, 0], -uv.T, uv.T * xy[1]])\n",
    "        A[2 * i + 1, :] = np.hstack([uv.T, [0, 0, 0], -uv.T * xy[0]])\n",
    "    \n",
    "    # Solve Ah = 0\n",
    "    h = solveAXEqualsZero(A)\n",
    "    #print(h.shape)\n",
    "    \n",
    "    # Reshape h into the matrix H, values of h go first into rows of H\n",
    "    H = np.reshape(h, (3, 3))\n",
    "    \n",
    "    return H"
   ]
  },
  {
   "cell_type": "code",
   "execution_count": 170,
   "metadata": {
    "collapsed": true,
    "deletable": true,
    "editable": true
   },
   "outputs": [],
   "source": [
    "#The goal of this function is to project points in XCart through projective camera\n",
    "#defined by intrinsic matrix K and extrinsic matrix T.\n",
    "def projectiveCamera(K,T,XCart):\n",
    "    \n",
    "    # TO DO: Convert Cartesian 3d points XCart to homogeneous coordinates XHom\n",
    "    # First convert points into homogeneous representation\n",
    "    XHom = np.concatenate((XCart, np.ones((1,XCart.shape[1]))), axis=0)\n",
    "    \n",
    "    # TO DO: Apply extrinsic matrix to XHom, to move to frame of reference of camera\n",
    "    XCamHom = np.matmul(T,XHom)\n",
    "    \n",
    "    # TO DO: Project points into normalized camera coordinates xCamHom (remove 4th row)\n",
    "    XCamHom_norm = XCamHom[:-1,:]\n",
    "    \n",
    "    # TO DO: Move points to image coordinates xImHom by applying intrinsic matrix\n",
    "    xImHom = np.matmul(K,XCamHom_norm)\n",
    "    \n",
    "    # TO DO: Convert points back to Cartesian coordinates xImCart\n",
    "    XImCart = xImHom[0:2,:] / np.tile([xImHom[2,:]],(2,1))\n",
    "    \n",
    "    return XImCart\n"
   ]
  },
  {
   "cell_type": "code",
   "execution_count": 171,
   "metadata": {
    "collapsed": false,
    "deletable": true,
    "editable": true
   },
   "outputs": [],
   "source": [
    "# Goal of function is to estimate pose of plane relative to camera (extrinsic matrix)\n",
    "# given points in image xImCart, points in world XCart and intrinsic matrix K\n",
    "\n",
    "def estimatePlanePose(XImCart,XCart,K):\n",
    "\n",
    "    # TO DO: Convert Cartesian image points XImCart to homogeneous representation XImHom\n",
    "    XImHom = np.concatenate((XImCart, np.ones((1,XImCart.shape[1]))), axis=0)\n",
    "    \n",
    "    # TO DO: Convert image co-ordinates XImHom to normalized camera coordinates XCamHom    \n",
    "    XCamHom = np.matmul(inv(K),XImHom)\n",
    "    \n",
    "    # TO DO: Estimate homography H mapping homogeneous (x,y) coordinates of positions\n",
    "    # in real world to XCamHom (convert XCamHom to Cartesian, calculate the homography) -\n",
    "    # use the routine you wrote for Practical 1B\n",
    "    \n",
    "    XCamCart = XCamHom[0:2,:] / np.tile([XCamHom[2,:]],(2,1))\n",
    "    \n",
    "    XCart = XCart[:-1,:]\n",
    "    H = calcBestHomography(XCart,XCamCart)\n",
    "    \n",
    "    # TO DO: Estimate first two columns of rotation matrix R from the first two\n",
    "    # columns of H using the SVD       \n",
    "    Rest = solve_rotation(H[:,:2])\n",
    "\n",
    "    # TO DO: Estimate the third column of the rotation matrix by taking the cross\n",
    "    # product of the first two columns\n",
    "    Rest_2 = np.cross(Rest[:,0],Rest[:,1])\n",
    "    Rest_2 = Rest_2.reshape((3,1))\n",
    "        \n",
    "    # TO DO: Check that the determinant of the rotation matrix is positive - if\n",
    "    # not then multiply last column by -1.\n",
    "    Rest_final = np.hstack((Rest,Rest_2))\n",
    "    \n",
    "    if det(Rest_final)<0:\n",
    "        Rest_final[:,-1] = Rest_final[:,-1] * -1\n",
    "    \n",
    "    # TO DO: Estimate the translation t by finding the appropriate scaling factor k\n",
    "    # and applying it to the third colulmn of H\n",
    "    scaling_factor = np.sum(H[:,:2]/Rest_final[:,:2])/6\n",
    "    t = H[:,-1]/scaling_factor \n",
    "    t = t.reshape((3,1))\n",
    "    \n",
    "    # TO DO: Check whether t_z is negative - if it is then multiply t by -1 and\n",
    "    # the first two columns of R by -1.\n",
    "    if t[-1,:] < 0:\n",
    "        t[:,:] = t[:,:] * -1\n",
    "        Rest_final[:,:2] = Rest_final[:,:2] * -1\n",
    "            \n",
    "    # TO DO: Assemble transformation into matrix form\n",
    "    T = np.hstack((Rest_final,t))\n",
    "    \n",
    "    return T "
   ]
  },
  {
   "cell_type": "markdown",
   "metadata": {
    "deletable": true,
    "editable": true
   },
   "source": [
    "# Once you have completed these functions, use them to estimate the transformation from the plane co-ordinate system to the camera co-ordinate system (i.e. the extrinsic matrix)"
   ]
  },
  {
   "cell_type": "code",
   "execution_count": 177,
   "metadata": {
    "collapsed": false,
    "deletable": true,
    "editable": true
   },
   "outputs": [
    {
     "name": "stdout",
     "output_type": "stream",
     "text": [
      "(3, 3)\n"
     ]
    }
   ],
   "source": [
    "# We assume that the intrinsic camera matrix K is known and has values\n",
    "K = np.array([[640, 0, 320],\n",
    "             [0, 640, 240],\n",
    "             [0, 0, 1]])\n",
    "\n",
    "# We will assume an object co-ordinate system with the Z-axis pointing upwards and the origin\n",
    "# in the centre of the plane. There are four known points on the plane with coordinates (mm):\n",
    "XCart = np.array([[-100, -100,  100,  100, 0],\n",
    "                  [-100,  100,  100, -100, 0],\n",
    "                  [   0,    0,    0,    0, 0]])\n",
    "\n",
    "# We assume the correct transformation from the plane co-ordinate system to the\n",
    "# camera co-ordinate system (extrinsic matrix) is:\n",
    "T = np.array([[0.9851,  -0.0492,  0.1619,  46.00],\n",
    "             [-0.1623,  -0.5520,  0.8181,  70.00],\n",
    "             [0.0490,  -0.8324, -0.5518,  500.89],\n",
    "             [0,        0,       0,       1]])\n",
    "  \n",
    "# TO DO: Use the general pin-hole projective camera model discussed in the lectures to estimate \n",
    "# where the four points on the plane will appear in the image.  Fill in the\n",
    "# details of the function \"projectiveCamera\" - body of function appears below:\n",
    "\n",
    "XImCart = projectiveCamera(K,T,XCart)\n",
    "\n",
    "# TO DO: Add noise (standard deviation of one pixel in each direction) to the pixel positions\n",
    "# to simulate having to find these points in a noisy image. Store the results back in xImCart\n",
    "XImCart = XImCart + np.random.normal(1,size=(2,5))\n",
    "\n",
    "# TO DO: Now we will take the image points and the known positions on the card and estimate  \n",
    "# the extrinsic matrix using the algorithm discussed in the lecture.  Fill in the details of \n",
    "# the function \"estimate plane pose\"\n",
    "TEst = estimatePlanePose(XImCart,XCart,K)\n",
    "\n",
    "# If you have got this correct, Test should closely resemble T above"
   ]
  },
  {
   "cell_type": "code",
   "execution_count": 178,
   "metadata": {
    "collapsed": false
   },
   "outputs": [
    {
     "data": {
      "text/plain": [
       "array([[  9.85520172e-01,  -4.93647932e-02,   1.62213157e-01,\n",
       "          4.60523019e+01],\n",
       "       [ -1.62275327e-01,  -5.51968840e-01,   8.17922440e-01,\n",
       "          7.00795899e+01],\n",
       "       [  4.91600358e-02,  -8.32402256e-01,  -5.51987114e-01,\n",
       "          5.01459511e+02]])"
      ]
     },
     "execution_count": 178,
     "metadata": {},
     "output_type": "execute_result"
    }
   ],
   "source": [
    "TEst"
   ]
  },
  {
   "cell_type": "code",
   "execution_count": 176,
   "metadata": {
    "collapsed": true
   },
   "outputs": [],
   "source": [
    "T = np.array([[0.9851,  -0.0492,  0.1619,  46.00],\n",
    "             [-0.1623,  -0.5520,  0.8181,  70.00],\n",
    "             [0.0490,  -0.8324, -0.5518,  500.89],\n",
    "             [0,        0,       0,       1]])"
   ]
  }
 ],
 "metadata": {
  "kernelspec": {
   "display_name": "Python 3",
   "language": "python",
   "name": "python3"
  },
  "language_info": {
   "codemirror_mode": {
    "name": "ipython",
    "version": 3
   },
   "file_extension": ".py",
   "mimetype": "text/x-python",
   "name": "python",
   "nbconvert_exporter": "python",
   "pygments_lexer": "ipython3",
   "version": "3.6.0"
  }
 },
 "nbformat": 4,
 "nbformat_minor": 1
}
